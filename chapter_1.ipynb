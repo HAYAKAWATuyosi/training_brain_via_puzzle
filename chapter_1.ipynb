{
  "nbformat": 4,
  "nbformat_minor": 0,
  "metadata": {
    "colab": {
      "provenance": [],
      "toc_visible": true,
      "authorship_tag": "ABX9TyPKgjenusNMMbVYiEvPu6jd",
      "include_colab_link": true
    },
    "kernelspec": {
      "name": "python3",
      "display_name": "Python 3"
    },
    "language_info": {
      "name": "python"
    }
  },
  "cells": [
    {
      "cell_type": "markdown",
      "metadata": {
        "id": "view-in-github",
        "colab_type": "text"
      },
      "source": [
        "<a href=\"https://colab.research.google.com/github/HAYAKAWATuyosi/training_brain_via_puzzle/blob/main/chapter_1.ipynb\" target=\"_parent\"><img src=\"https://colab.research.google.com/assets/colab-badge.svg\" alt=\"Open In Colab\"/></a>"
      ]
    },
    {
      "cell_type": "markdown",
      "source": [
        "# 第1章（p.12）"
      ],
      "metadata": {
        "id": "fM0bkWLD19oD"
      }
    },
    {
      "cell_type": "markdown",
      "source": [
        "## 1-1. プログラミングで何をつくる？（p.12）\n",
        "\n",
        "\n"
      ],
      "metadata": {
        "id": "koyADnTw3LlZ"
      }
    },
    {
      "cell_type": "markdown",
      "source": [
        "### 1-1-1. プログラミングに必要な要素とはなんだろう（p.12）\n",
        "\n",
        "- 入力\n",
        "- 出力\n",
        "- データ構造\n",
        "- アルゴリズム  \n",
        "\n"
      ],
      "metadata": {
        "id": "SZaI7jId2rHR"
      }
    },
    {
      "cell_type": "markdown",
      "source": [
        "### 1-1-2. Python のプログラミング環境を用意しよう（p.14）"
      ],
      "metadata": {
        "id": "ROJxCo_-6ts1"
      }
    },
    {
      "cell_type": "markdown",
      "source": [
        "## 1-2. ○✗ゲームの盤面を作ろう（p.16）"
      ],
      "metadata": {
        "id": "QS97qK-T3qt7"
      }
    },
    {
      "cell_type": "markdown",
      "source": [
        "### 1-2-1. まずは盤面を作る（p.16）"
      ],
      "metadata": {
        "id": "J2JWphSX4Uly"
      }
    },
    {
      "cell_type": "markdown",
      "source": [
        "#### 業界用語に慣れる\n",
        "\n",
        "- コマンドライン\n",
        "- ターミナル\n",
        "- 標準入力\n",
        "- 標準出力\n"
      ],
      "metadata": {
        "id": "FY5EHL5z5ZkO"
      }
    },
    {
      "cell_type": "markdown",
      "source": [
        "#### 標準入力\n",
        "\n",
        "引用符は、一重引用符でも二重引用符でも、どちらでもOKです。"
      ],
      "metadata": {
        "id": "9gnGKYOO4-jn"
      }
    },
    {
      "cell_type": "code",
      "source": [
        "print('春夏秋冬')"
      ],
      "metadata": {
        "colab": {
          "base_uri": "https://localhost:8080/"
        },
        "id": "Yw9M1pz55BzD",
        "outputId": "7bad98da-44f8-41c8-9a9b-c61a53770a66"
      },
      "execution_count": 1,
      "outputs": [
        {
          "output_type": "stream",
          "name": "stdout",
          "text": [
            "春夏秋冬\n"
          ]
        }
      ]
    },
    {
      "cell_type": "code",
      "source": [
        "print(\"春夏秋冬\")"
      ],
      "metadata": {
        "colab": {
          "base_uri": "https://localhost:8080/"
        },
        "id": "H6leyld55LrP",
        "outputId": "c7ba2863-3655-47d6-f19d-2339761bae5d"
      },
      "execution_count": 2,
      "outputs": [
        {
          "output_type": "stream",
          "name": "stdout",
          "text": [
            "春夏秋冬\n"
          ]
        }
      ]
    },
    {
      "cell_type": "code",
      "source": [
        "print('○✗○')\n",
        "print('✗○○')\n",
        "print('○✗✗')"
      ],
      "metadata": {
        "colab": {
          "base_uri": "https://localhost:8080/"
        },
        "id": "pqMByvRg5ude",
        "outputId": "92ac277c-f479-476b-e53f-306bb87329dc"
      },
      "execution_count": 3,
      "outputs": [
        {
          "output_type": "stream",
          "name": "stdout",
          "text": [
            "○✗○\n",
            "✗○○\n",
            "○✗✗\n"
          ]
        }
      ]
    },
    {
      "cell_type": "markdown",
      "source": [],
      "metadata": {
        "id": "l4AT4wdl4ZqA"
      }
    },
    {
      "cell_type": "markdown",
      "source": [
        "### 1-2-2. 状況に合わせて出力を変えられるようにしよう（p.19）"
      ],
      "metadata": {
        "id": "NiyUP-Pu7Ev6"
      }
    },
    {
      "cell_type": "markdown",
      "source": [
        "**行と列**\n",
        "\n",
        "|名称|造りの二本線の方向|英単語|英単語の覚え方|\n",
        "|-|-|-|-|\n",
        "|行|横方向|row|「ロー」と発音し、長音記号が横方向|\n",
        "|列|縦方向|column|エルの小文字が縦方向|\n",
        "\n",
        "```\n",
        "# これはコードとして書式設定されます\n",
        "```\n",
        "\n"
      ],
      "metadata": {
        "id": "OOLDytrl7VT6"
      }
    },
    {
      "cell_type": "code",
      "source": [
        "row = '○✗○'"
      ],
      "metadata": {
        "id": "Pa5JxsUy8Vpb"
      },
      "execution_count": 5,
      "outputs": []
    },
    {
      "cell_type": "code",
      "source": [
        "print(row)"
      ],
      "metadata": {
        "colab": {
          "base_uri": "https://localhost:8080/"
        },
        "id": "djOJVIm88iKv",
        "outputId": "3befdbed-be01-495d-c744-7682405eaeff"
      },
      "execution_count": 6,
      "outputs": [
        {
          "output_type": "stream",
          "name": "stdout",
          "text": [
            "○✗○\n"
          ]
        }
      ]
    },
    {
      "cell_type": "code",
      "source": [
        "row = '○✗○'\n",
        "print(row)\n",
        "row = '✗○○'\n",
        "print(row)\n",
        "row = '○✗✗'\n",
        "print(row)"
      ],
      "metadata": {
        "id": "kXpIByqG83KW",
        "outputId": "efeae4fe-c8c5-4bcf-91fc-b3887b337c93",
        "colab": {
          "base_uri": "https://localhost:8080/"
        }
      },
      "execution_count": 11,
      "outputs": [
        {
          "output_type": "stream",
          "name": "stdout",
          "text": [
            "○✗○\n",
            "✗○○\n",
            "○✗✗\n"
          ]
        }
      ]
    },
    {
      "cell_type": "markdown",
      "source": [
        "重要なことは以下の2点です。\n",
        "\n",
        "- ```print(row)``` の行は3つとも同じ（共通）である\n",
        "- それぞれの局面で最後（直近）の代入が効力を持つ\n",
        "    - >同じ名前の変数に何度も代入していますが、出力結果を見ると最後に代入したものが表示されています。つまり、変数という名前の通り、代入することでその内容を変更できることがわかります。（p.21）\n",
        "    - >代入したときは、それまで格納さていた値は上書きされ、最新の内容のみが残ります。（p.21）"
      ],
      "metadata": {
        "id": "p99qLRD39ee8"
      }
    },
    {
      "cell_type": "markdown",
      "source": [
        "### 1-2-3. Pythonで計算しよう（p.21）"
      ],
      "metadata": {
        "id": "nmSlGAHF-3to"
      }
    },
    {
      "cell_type": "code",
      "source": [],
      "metadata": {
        "id": "1t8E393z-DsB"
      },
      "execution_count": null,
      "outputs": []
    }
  ]
}