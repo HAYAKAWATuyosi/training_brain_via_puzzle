{
  "nbformat": 4,
  "nbformat_minor": 0,
  "metadata": {
    "colab": {
      "provenance": [],
      "toc_visible": true,
      "authorship_tag": "ABX9TyPphTN0HqFkYlHsxJVq4ECP",
      "include_colab_link": true
    },
    "kernelspec": {
      "name": "python3",
      "display_name": "Python 3"
    },
    "language_info": {
      "name": "python"
    }
  },
  "cells": [
    {
      "cell_type": "markdown",
      "metadata": {
        "id": "view-in-github",
        "colab_type": "text"
      },
      "source": [
        "<a href=\"https://colab.research.google.com/github/HAYAKAWATuyosi/training_brain_via_puzzle/blob/main/chapter_1.ipynb\" target=\"_parent\"><img src=\"https://colab.research.google.com/assets/colab-badge.svg\" alt=\"Open In Colab\"/></a>"
      ]
    },
    {
      "cell_type": "markdown",
      "source": [
        "# 第1章（p.12）"
      ],
      "metadata": {
        "id": "fM0bkWLD19oD"
      }
    },
    {
      "cell_type": "markdown",
      "source": [
        "## 1-1. プログラミングで何をつくる？（p.12）\n",
        "\n",
        "\n"
      ],
      "metadata": {
        "id": "koyADnTw3LlZ"
      }
    },
    {
      "cell_type": "markdown",
      "source": [
        "### 1-1-1. プログラミングに必要な要素とはなんだろう（p.12）\n",
        "\n",
        "- 入力\n",
        "- 出力\n",
        "- データ構造\n",
        "- アルゴリズム  \n",
        "\n"
      ],
      "metadata": {
        "id": "SZaI7jId2rHR"
      }
    },
    {
      "cell_type": "markdown",
      "source": [
        "### 1-1-2. Python のプログラミング環境を用意しよう（p.14）"
      ],
      "metadata": {
        "id": "ROJxCo_-6ts1"
      }
    },
    {
      "cell_type": "markdown",
      "source": [
        "## 1-2. ○✗ゲームの盤面を作ろう（p.16）"
      ],
      "metadata": {
        "id": "QS97qK-T3qt7"
      }
    },
    {
      "cell_type": "markdown",
      "source": [
        "### 1-2-1. まずは盤面を作る（p.16）"
      ],
      "metadata": {
        "id": "J2JWphSX4Uly"
      }
    },
    {
      "cell_type": "markdown",
      "source": [
        "#### 業界用語に慣れる\n",
        "\n",
        "- コマンドライン\n",
        "- ターミナル\n",
        "- 標準入力\n",
        "- 標準出力\n"
      ],
      "metadata": {
        "id": "FY5EHL5z5ZkO"
      }
    },
    {
      "cell_type": "markdown",
      "source": [
        "#### 標準入力\n",
        "\n",
        "引用符は、一重引用符でも二重引用符でも、どちらでもOKです。"
      ],
      "metadata": {
        "id": "9gnGKYOO4-jn"
      }
    },
    {
      "cell_type": "code",
      "source": [
        "print('春夏秋冬')"
      ],
      "metadata": {
        "colab": {
          "base_uri": "https://localhost:8080/"
        },
        "id": "Yw9M1pz55BzD",
        "outputId": "7bad98da-44f8-41c8-9a9b-c61a53770a66"
      },
      "execution_count": 1,
      "outputs": [
        {
          "output_type": "stream",
          "name": "stdout",
          "text": [
            "春夏秋冬\n"
          ]
        }
      ]
    },
    {
      "cell_type": "code",
      "source": [
        "print(\"春夏秋冬\")"
      ],
      "metadata": {
        "colab": {
          "base_uri": "https://localhost:8080/"
        },
        "id": "H6leyld55LrP",
        "outputId": "c7ba2863-3655-47d6-f19d-2339761bae5d"
      },
      "execution_count": 2,
      "outputs": [
        {
          "output_type": "stream",
          "name": "stdout",
          "text": [
            "春夏秋冬\n"
          ]
        }
      ]
    },
    {
      "cell_type": "code",
      "source": [
        "print('○✗○')\n",
        "print('✗○○')\n",
        "print('○✗✗')"
      ],
      "metadata": {
        "colab": {
          "base_uri": "https://localhost:8080/"
        },
        "id": "pqMByvRg5ude",
        "outputId": "92ac277c-f479-476b-e53f-306bb87329dc"
      },
      "execution_count": 3,
      "outputs": [
        {
          "output_type": "stream",
          "name": "stdout",
          "text": [
            "○✗○\n",
            "✗○○\n",
            "○✗✗\n"
          ]
        }
      ]
    },
    {
      "cell_type": "markdown",
      "source": [],
      "metadata": {
        "id": "l4AT4wdl4ZqA"
      }
    },
    {
      "cell_type": "markdown",
      "source": [
        "### 1-2-2. 状況に合わせて出力を変えられるようにしよう（p.19）"
      ],
      "metadata": {
        "id": "NiyUP-Pu7Ev6"
      }
    },
    {
      "cell_type": "markdown",
      "source": [
        "**行と列**\n",
        "\n",
        "|名称|造りの二本線の方向|英単語|英単語の覚え方|\n",
        "|-|-|-|-|\n",
        "|行|横方向|row|「ロー」と発音し、長音記号が横方向|\n",
        "|列|縦方向|column|エルの小文字が縦方向|\n",
        "\n",
        "```\n",
        "# これはコードとして書式設定されます\n",
        "```\n",
        "\n"
      ],
      "metadata": {
        "id": "OOLDytrl7VT6"
      }
    },
    {
      "cell_type": "code",
      "source": [
        "row = '○✗○'"
      ],
      "metadata": {
        "id": "Pa5JxsUy8Vpb"
      },
      "execution_count": 5,
      "outputs": []
    },
    {
      "cell_type": "code",
      "source": [
        "print(row)"
      ],
      "metadata": {
        "colab": {
          "base_uri": "https://localhost:8080/"
        },
        "id": "djOJVIm88iKv",
        "outputId": "3befdbed-be01-495d-c744-7682405eaeff"
      },
      "execution_count": 6,
      "outputs": [
        {
          "output_type": "stream",
          "name": "stdout",
          "text": [
            "○✗○\n"
          ]
        }
      ]
    },
    {
      "cell_type": "code",
      "source": [
        "row = '○✗○'\n",
        "print(row)\n",
        "row = '✗○○'\n",
        "print(row)\n",
        "row = '○✗✗'\n",
        "print(row)"
      ],
      "metadata": {
        "colab": {
          "base_uri": "https://localhost:8080/"
        },
        "id": "kXpIByqG83KW",
        "outputId": "efeae4fe-c8c5-4bcf-91fc-b3887b337c93"
      },
      "execution_count": 11,
      "outputs": [
        {
          "output_type": "stream",
          "name": "stdout",
          "text": [
            "○✗○\n",
            "✗○○\n",
            "○✗✗\n"
          ]
        }
      ]
    },
    {
      "cell_type": "markdown",
      "source": [
        "重要なことは以下の2点です。\n",
        "\n",
        "- ```print(row)``` の行は3つとも同じ（共通）である\n",
        "- それぞれの局面で最後（直近）の代入が効力を持つ\n",
        "    - >同じ名前の変数に何度も代入していますが、出力結果を見ると最後に代入したものが表示されています。つまり、変数という名前の通り、代入することでその内容を変更できることがわかります。（p.21）\n",
        "    - >代入したときは、それまで格納さていた値は上書きされ、最新の内容のみが残ります。（p.21）"
      ],
      "metadata": {
        "id": "p99qLRD39ee8"
      }
    },
    {
      "cell_type": "markdown",
      "source": [
        "### 1-2-3. Pythonで計算しよう（p.21）"
      ],
      "metadata": {
        "id": "nmSlGAHF-3to"
      }
    },
    {
      "cell_type": "code",
      "source": [
        "# 足し算\n",
        "3 + 5"
      ],
      "metadata": {
        "colab": {
          "base_uri": "https://localhost:8080/"
        },
        "id": "1t8E393z-DsB",
        "outputId": "fbfc0f4c-0540-4702-ce76-9e2de303381c"
      },
      "execution_count": 24,
      "outputs": [
        {
          "output_type": "execute_result",
          "data": {
            "text/plain": [
              "8"
            ]
          },
          "metadata": {},
          "execution_count": 24
        }
      ]
    },
    {
      "cell_type": "code",
      "source": [
        "# 引き算\n",
        "5 - 2"
      ],
      "metadata": {
        "id": "oznVi_1NAQNq",
        "outputId": "2369071b-9e60-4cca-fdfd-f7a93ffd395e",
        "colab": {
          "base_uri": "https://localhost:8080/"
        }
      },
      "execution_count": 18,
      "outputs": [
        {
          "output_type": "execute_result",
          "data": {
            "text/plain": [
              "3"
            ]
          },
          "metadata": {},
          "execution_count": 18
        }
      ]
    },
    {
      "cell_type": "code",
      "source": [
        "# 掛け算\n",
        "4 * 5"
      ],
      "metadata": {
        "id": "u17KxDvlAVYV",
        "outputId": "5bd5e7c9-8f32-4e38-a62b-9e26457ad04f",
        "colab": {
          "base_uri": "https://localhost:8080/"
        }
      },
      "execution_count": 16,
      "outputs": [
        {
          "output_type": "execute_result",
          "data": {
            "text/plain": [
              "20"
            ]
          },
          "metadata": {},
          "execution_count": 16
        }
      ]
    },
    {
      "cell_type": "code",
      "source": [
        "# 割り算（小数）\n",
        "13 / 2"
      ],
      "metadata": {
        "id": "02Em4DuqAW59",
        "outputId": "17966fc4-32c4-4d77-99b5-822977ca1572",
        "colab": {
          "base_uri": "https://localhost:8080/"
        }
      },
      "execution_count": 17,
      "outputs": [
        {
          "output_type": "execute_result",
          "data": {
            "text/plain": [
              "6.5"
            ]
          },
          "metadata": {},
          "execution_count": 17
        }
      ]
    },
    {
      "cell_type": "code",
      "source": [
        "# 割り算（商）\n",
        "13 // 2"
      ],
      "metadata": {
        "id": "cSEvmNn9AYLJ",
        "outputId": "95f55115-4a2a-4533-8ed2-f6526ae40c67",
        "colab": {
          "base_uri": "https://localhost:8080/"
        }
      },
      "execution_count": 19,
      "outputs": [
        {
          "output_type": "execute_result",
          "data": {
            "text/plain": [
              "6"
            ]
          },
          "metadata": {},
          "execution_count": 19
        }
      ]
    },
    {
      "cell_type": "code",
      "source": [
        "# あまり\n",
        "13 % 2"
      ],
      "metadata": {
        "id": "zHL2ydKyAcaG",
        "outputId": "84f3f90b-227e-4d8a-bb5e-8ef517a61b43",
        "colab": {
          "base_uri": "https://localhost:8080/"
        }
      },
      "execution_count": 20,
      "outputs": [
        {
          "output_type": "execute_result",
          "data": {
            "text/plain": [
              "1"
            ]
          },
          "metadata": {},
          "execution_count": 20
        }
      ]
    },
    {
      "cell_type": "code",
      "source": [
        "# 累乗\n",
        "2 ** 3"
      ],
      "metadata": {
        "id": "8JzeaFyXAdex",
        "outputId": "e604d17d-d66e-4c6d-f95b-e171e0981c7f",
        "colab": {
          "base_uri": "https://localhost:8080/"
        }
      },
      "execution_count": 21,
      "outputs": [
        {
          "output_type": "execute_result",
          "data": {
            "text/plain": [
              "8"
            ]
          },
          "metadata": {},
          "execution_count": 21
        }
      ]
    },
    {
      "cell_type": "markdown",
      "source": [
        "**記号の前後の半角空白（スペース）の数は何個でも、計算結果は同じになる**"
      ],
      "metadata": {
        "id": "rqM-3ZEvAyXm"
      }
    },
    {
      "cell_type": "code",
      "source": [
        "# 空白が零個の場合\n",
        "3+5"
      ],
      "metadata": {
        "colab": {
          "base_uri": "https://localhost:8080/"
        },
        "id": "HZ3VKKBwAwLY",
        "outputId": "4fd5297c-dda8-4106-80ec-362c64cf4362"
      },
      "execution_count": 23,
      "outputs": [
        {
          "output_type": "execute_result",
          "data": {
            "text/plain": [
              "8"
            ]
          },
          "metadata": {},
          "execution_count": 23
        }
      ]
    },
    {
      "cell_type": "code",
      "source": [
        "# 空白が2個の場合\n",
        "3  +  5"
      ],
      "metadata": {
        "id": "J_kzbQ_iA0Dv",
        "outputId": "cb2f1f5f-e6b3-48a1-9dfe-7f0ba46473b3",
        "colab": {
          "base_uri": "https://localhost:8080/"
        }
      },
      "execution_count": 25,
      "outputs": [
        {
          "output_type": "execute_result",
          "data": {
            "text/plain": [
              "8"
            ]
          },
          "metadata": {},
          "execution_count": 25
        }
      ]
    },
    {
      "cell_type": "code",
      "source": [
        "# 左側の空白が3個、右側の空白が1個の場合\n",
        "3   + 5"
      ],
      "metadata": {
        "id": "PHJyLVyZBCYF",
        "outputId": "9a88d947-0a40-452a-f71b-cbbf77ae96a2",
        "colab": {
          "base_uri": "https://localhost:8080/"
        }
      },
      "execution_count": 26,
      "outputs": [
        {
          "output_type": "execute_result",
          "data": {
            "text/plain": [
              "8"
            ]
          },
          "metadata": {},
          "execution_count": 26
        }
      ]
    },
    {
      "cell_type": "markdown",
      "source": [
        "空白の個数は何個でも構わないが、\n",
        "可読性を損なわないためには、以下のどちらかが良い。\n",
        "\n",
        "- 零個（ゼロ個）\n",
        "- 1個"
      ],
      "metadata": {
        "id": "PH1fjcKzBZk2"
      }
    },
    {
      "cell_type": "markdown",
      "source": [
        "[\"式や文中の空白文字\" in PEP 8, the Style Guide for Python Code](https://pep8-ja.readthedocs.io/ja/latest/#id15)\n",
        "\n",
        "![20240820_PEP8_空白文字の有無.png](data:image/png;base64,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)"
      ],
      "metadata": {
        "id": "LUqdTKPKB4Yj"
      }
    },
    {
      "cell_type": "markdown",
      "source": [
        "#### 演算子の優先順位\n",
        "\n",
        "1. (2 + 3) * (6 - 4) // (7 - 2)\n",
        "    - 3つの括弧の中がそれぞれ計算される\n",
        "2. 5 * 2 // 5\n",
        "    - 左から計算される\n",
        "3. 10 // 5\n",
        "    - （演算子は一つだけなので、もはや優先順位は考えなくていい）\n",
        "4. 2\n"
      ],
      "metadata": {
        "id": "9d-yBXZJD5NZ"
      }
    },
    {
      "cell_type": "markdown",
      "source": [
        "#### 複合代入演算子\n",
        "\n",
        "- 打鍵数が少なくなる\n",
        "    - 多: ```x = x + 2```\n",
        "    - 少: ```x += 2```\n",
        "- 識別性が上がる\n",
        "    - num_banana_sold = num_banana_sold + 2\n",
        "    - num_banana_sold += 2"
      ],
      "metadata": {
        "id": "Q0lm1WmyD-B6"
      }
    },
    {
      "cell_type": "markdown",
      "source": [
        "### 1-2-4. 繰り返しとリストで手間を省く"
      ],
      "metadata": {
        "id": "xDYuBEvwFZZD"
      }
    },
    {
      "cell_type": "code",
      "source": [],
      "metadata": {
        "id": "VutP2AMQDtlT"
      },
      "execution_count": null,
      "outputs": []
    }
  ]
}